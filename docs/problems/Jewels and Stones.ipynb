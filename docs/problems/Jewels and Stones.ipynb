{
 "cells": [
  {
   "cell_type": "markdown",
   "metadata": {},
   "source": [
    "# Jewels and Stones\n",
    "\n",
    "Source: [https://leetcode.com/problems/jewels-and-stones/](https://leetcode.com/problems/jewels-and-stones/)\n",
    "\n",
    "You're given strings `J` representing the types of stones that are jewels, and `S` representing the stones you have.  Each character in `S` is a type of stone you have.  You want to know how many of the stones you have are also jewels.\n",
    "\n",
    "The letters in `J` are guaranteed distinct, and all characters in `J` and `S` are letters. Letters are case sensitive, so `\"a\"` is considered a different type of stone from `\"A\"`.\n",
    "\n",
    "**Example 1**\n",
    "```\n",
    "Input: J = \"aA\", S = \"aAAbbbb\"\n",
    "Output: 3\n",
    "```\n",
    "\n",
    "**Example 2**\n",
    "```\n",
    "Input: J = \"z\", S = \"ZZ\"\n",
    "Output: 0\n",
    "```\n",
    "\n",
    "**Note:**\n",
    "\n",
    "* `S` and `J` will consist of letters and have length at most 50.\n",
    "* The characters in `J` are distinct."
   ]
  },
  {
   "cell_type": "markdown",
   "metadata": {},
   "source": [
    "### Solution (Hash map)"
   ]
  },
  {
   "cell_type": "code",
   "execution_count": 1,
   "metadata": {},
   "outputs": [],
   "source": [
    "def numJewelsInStones(J, S):\n",
    "    \"\"\"\n",
    "    :type J: str\n",
    "    :type S: str\n",
    "    :rtype: int\n",
    "    \"\"\"\n",
    "    J_Dict = {}\n",
    "    count = 0\n",
    "    for i in J:\n",
    "        J_Dict[i] = True\n",
    "    for i in S:\n",
    "        if J_Dict.get(i, None):\n",
    "            count += 1\n",
    "    return count"
   ]
  },
  {
   "cell_type": "code",
   "execution_count": 2,
   "metadata": {},
   "outputs": [
    {
     "name": "stdout",
     "output_type": "stream",
     "text": [
      "J = aA, S = aAAbbbb\n",
      "Expected: 3\n",
      "Actual  : 3\n",
      "\n",
      "J = z, S = ZZ\n",
      "Expected: 0\n",
      "Actual  : 0\n",
      "\n"
     ]
    }
   ],
   "source": [
    "tests = [\n",
    "    {\"J\": \"aA\", \"S\": \"aAAbbbb\", \"output\": 3},\n",
    "    {\"J\": \"z\", \"S\": \"ZZ\", \"output\": 0},\n",
    "]\n",
    "\n",
    "for test in tests:\n",
    "    J, S, expected_output = test[\"J\"], test[\"S\"], test[\"output\"]\n",
    "    output = numJewelsInStones(J, S)\n",
    "    print(f'J = {J}, S = {S}')\n",
    "    print(f'Expected: {expected_output}')\n",
    "    print(f'Actual  : {output}\\n')"
   ]
  },
  {
   "cell_type": "markdown",
   "metadata": {},
   "source": [
    "### Complexity\n",
    "\n",
    "Let, *m* = length(J) and *n* = length(S)\n",
    "\n",
    "* **Time complexity** = $O(m) + O(n)$\n",
    "* **Space complexity** = $O(m)$"
   ]
  }
 ],
 "metadata": {
  "kernelspec": {
   "display_name": "Python 3",
   "language": "python",
   "name": "python3"
  },
  "language_info": {
   "codemirror_mode": {
    "name": "ipython",
    "version": 3
   },
   "file_extension": ".py",
   "mimetype": "text/x-python",
   "name": "python",
   "nbconvert_exporter": "python",
   "pygments_lexer": "ipython3",
   "version": "3.6.6"
  }
 },
 "nbformat": 4,
 "nbformat_minor": 2
}
