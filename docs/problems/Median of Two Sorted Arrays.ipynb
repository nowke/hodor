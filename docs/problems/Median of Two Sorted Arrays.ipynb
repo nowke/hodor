{
 "cells": [
  {
   "cell_type": "markdown",
   "metadata": {},
   "source": [
    "# Median of Two Sorted Arrays\n",
    "\n",
    "Source: [https://leetcode.com/problems/median-of-two-sorted-arrays/](https://leetcode.com/problems/median-of-two-sorted-arrays/)\n",
    "\n",
    "There are two sorted arrays **nums1** and **nums2** of size m and n respectively.\n",
    "\n",
    "Find the median of the two sorted arrays. The overall run time complexity should be O(log (m+n)).\n",
    "\n",
    "You may assume **nums1** and **nums2** cannot be both empty.\n",
    "\n",
    "**Example 1:**\n",
    "\n",
    "```\n",
    "nums1 = [1, 3]\n",
    "nums2 = [2]\n",
    "\n",
    "The median is 2.0\n",
    "```\n",
    "\n",
    "**Example 2:**\n",
    "\n",
    "```\n",
    "nums1 = [1, 2]\n",
    "nums2 = [3, 4]\n",
    "\n",
    "The median is (2 + 3)/2 = 2.5\n",
    "```\n",
    "\n",
    "### Solution"
   ]
  },
  {
   "cell_type": "code",
   "execution_count": 1,
   "metadata": {},
   "outputs": [],
   "source": [
    "def findMedianSortedArrays(nums1, nums2):\n",
    "    \"\"\"\n",
    "    :type nums1: List[int]\n",
    "    :type nums2: List[int]\n",
    "    :rtype: float\n",
    "    \"\"\"\n",
    "    if len(nums1) > len(nums2):\n",
    "        nums1, nums2 = nums2, nums1\n",
    "    m, n = len(nums1), len(nums2)\n",
    "    isEven = (m + n) % 2 == 0\n",
    "\n",
    "    low, high = 0, m\n",
    "\n",
    "    while low <= high:\n",
    "        partM = (low + high) // 2\n",
    "        partN = ((m + n + 1) // 2) - partM\n",
    "\n",
    "        maxLeftM = nums1[partM - 1] if partM != 0 else float(\"-inf\")\n",
    "        maxLeftN = nums2[partN - 1] if partN != 0 else float(\"-inf\")\n",
    "\n",
    "        minRightM = nums1[partM] if partM != m else float(\"inf\")\n",
    "        minRightN = nums2[partN] if partN != n else float(\"inf\")\n",
    "\n",
    "        if maxLeftM <= minRightN and maxLeftN <= minRightM:\n",
    "            if isEven:\n",
    "                return (max(maxLeftM, maxLeftN) + min(minRightM, minRightN)) / 2\n",
    "            return max(maxLeftM, maxLeftN)\n",
    "        elif maxLeftM > minRightN:\n",
    "            high = partM - 1\n",
    "        else:\n",
    "            low = partM + 1"
   ]
  },
  {
   "cell_type": "code",
   "execution_count": 2,
   "metadata": {},
   "outputs": [
    {
     "name": "stdout",
     "output_type": "stream",
     "text": [
      "nums1 = [1, 3]\n",
      "nums2 = [2]\n",
      "Expected = 2.0\n",
      "Actual   = 2\n",
      "\n",
      "nums1 = [1, 2]\n",
      "nums2 = [3, 4]\n",
      "Expected = 2.5\n",
      "Actual   = 2.5\n",
      "\n",
      "nums1 = [1, 4, 7, 9, 15]\n",
      "nums2 = [6, 12, 17, 20, 21, 22]\n",
      "Expected = 12\n",
      "Actual   = 12\n",
      "\n",
      "nums1 = [10, 11, 12, 18]\n",
      "nums2 = [1, 3, 5, 6, 7, 8]\n",
      "Expected = 7.5\n",
      "Actual   = 7.5\n",
      "\n"
     ]
    }
   ],
   "source": [
    "tests = [\n",
    "    { \"nums1\": [1, 3], \"nums2\": [2], \"median\": 2.0 },\n",
    "    { \"nums1\": [1, 2], \"nums2\": [3, 4], \"median\": 2.5 },\n",
    "    { \"nums1\": [1, 4, 7, 9, 15], \"nums2\": [6, 12, 17, 20, 21, 22], \"median\": 12 },\n",
    "    { \"nums1\": [10, 11, 12, 18], \"nums2\": [1, 3, 5, 6, 7, 8], \"median\": 7.5 },\n",
    "]\n",
    "\n",
    "for test in tests:\n",
    "    nums1, nums2, expected_median = test[\"nums1\"], test[\"nums2\"], test[\"median\"]\n",
    "    median = findMedianSortedArrays(nums1, nums2)\n",
    "    \n",
    "    print(f'nums1 = {nums1}')\n",
    "    print(f'nums2 = {nums2}')\n",
    "    print(f'Expected = {expected_median}')\n",
    "    print(f'Actual   = {median}\\n')"
   ]
  },
  {
   "cell_type": "markdown",
   "metadata": {},
   "source": [
    "**Complexity**\n",
    "\n",
    "* **Time Complexity**: $O(log(min(m, n)))$\n",
    "* **Space Complexity**: $O(1)$"
   ]
  }
 ],
 "metadata": {
  "kernelspec": {
   "display_name": "Python 3",
   "language": "python",
   "name": "python3"
  },
  "language_info": {
   "codemirror_mode": {
    "name": "ipython",
    "version": 3
   },
   "file_extension": ".py",
   "mimetype": "text/x-python",
   "name": "python",
   "nbconvert_exporter": "python",
   "pygments_lexer": "ipython3",
   "version": "3.6.6"
  }
 },
 "nbformat": 4,
 "nbformat_minor": 2
}
