{
 "cells": [
  {
   "cell_type": "markdown",
   "metadata": {},
   "source": [
    "# Two Sum\n",
    "\n",
    "Source: [https://leetcode.com/problems/two-sum/](https://leetcode.com/problems/two-sum/)\n",
    "\n",
    "Given an array of integers, return **indices** of the two numbers such that they add up to a specific target.\n",
    "\n",
    "You may assume that each input would have ***exactly*** one solution, and you may not use the *same* element twice.\n",
    "\n",
    "**Example**\n",
    "\n",
    "```\n",
    "Given nums = [2, 7, 11, 15], target = 9,\n",
    "\n",
    "Because nums[0] + nums[1] = 2 + 7 = 9,\n",
    "return [0, 1].\n",
    "```"
   ]
  },
  {
   "cell_type": "markdown",
   "metadata": {},
   "source": [
    "### Solution 1: Brute Force\n",
    "\n",
    "Generate all pair of two numbers from the array, find the element with `sum = target`"
   ]
  },
  {
   "cell_type": "code",
   "execution_count": 1,
   "metadata": {},
   "outputs": [
    {
     "name": "stdout",
     "output_type": "stream",
     "text": [
      "Generated pairs:  [[0, 1], [0, 2], [0, 3], [1, 2], [1, 3], [2, 3]]\n"
     ]
    },
    {
     "data": {
      "text/plain": [
       "[0, 1]"
      ]
     },
     "execution_count": 1,
     "metadata": {},
     "output_type": "execute_result"
    }
   ],
   "source": [
    "def two_sum_brute_force(nums, target, debug = False):\n",
    "    \"\"\"\n",
    "    :type nums: List[int]\n",
    "    :type target: int\n",
    "    :rtype: List[int]\n",
    "    \"\"\"\n",
    "    # (i) Generate pairs\n",
    "    pairs = []\n",
    "    for i in range(0, len(nums) - 1):\n",
    "        for j in range(i + 1, len(nums)):\n",
    "            pairs.append([i, j])\n",
    "    if debug: print(\"Generated pairs: \", pairs)\n",
    "        \n",
    "    # (ii) Find pair with sum = target\n",
    "    for pair in pairs:\n",
    "        if nums[pair[0]] + nums[pair[1]] == target:\n",
    "            return pair\n",
    "    return None\n",
    "\n",
    "two_sum_brute_force([2, 7, 11, 15], 9, True)"
   ]
  },
  {
   "cell_type": "markdown",
   "metadata": {},
   "source": [
    "We can avoid **Step (ii)** by calculating the sum during `pairs.append()` step and return if the solution is found. Nonetheless, the complexity remains $\\Theta(n^2)$"
   ]
  },
  {
   "cell_type": "markdown",
   "metadata": {},
   "source": [
    "### Solution 2: Hash table\n",
    "\n",
    "Construct a reverse map from array element to it's index, store them in hash map. Use the map to check if entry for `target - nun` exists for each `num` in `nums`"
   ]
  },
  {
   "cell_type": "code",
   "execution_count": 2,
   "metadata": {},
   "outputs": [
    {
     "name": "stdout",
     "output_type": "stream",
     "text": [
      "[0, 1]\n",
      "[1, 3]\n"
     ]
    }
   ],
   "source": [
    "def two_sum_hash(nums ,target):\n",
    "    \"\"\"\n",
    "    :type nums: List[int]\n",
    "    :type target: int\n",
    "    :rtype: List[int]\n",
    "    \"\"\"\n",
    "    lookup = {}\n",
    "    for i, num in enumerate(nums):\n",
    "        diff = target - num\n",
    "        element = lookup.get(diff, None)\n",
    "        if element is not None:\n",
    "            if i > element:\n",
    "                return [element, i]\n",
    "            return [i, element]\n",
    "        lookup[num] = i\n",
    "    return None\n",
    "\n",
    "print(two_sum_hash([2, 7, 11, 15], 9))\n",
    "print(two_sum_hash([2, 5, 1, 9, 3, 6, 10, 7], 14))"
   ]
  },
  {
   "cell_type": "markdown",
   "metadata": {},
   "source": [
    "If assumed that hash lookup is constant time,\n",
    "\n",
    "**Time Complexity** = $T(n) = O(n)$\n",
    "\n",
    "**Space Complexity** = $O(n)$ for hash table"
   ]
  }
 ],
 "metadata": {
  "kernelspec": {
   "display_name": "Python 3",
   "language": "python",
   "name": "python3"
  },
  "language_info": {
   "codemirror_mode": {
    "name": "ipython",
    "version": 3
   },
   "file_extension": ".py",
   "mimetype": "text/x-python",
   "name": "python",
   "nbconvert_exporter": "python",
   "pygments_lexer": "ipython3",
   "version": "3.6.6"
  }
 },
 "nbformat": 4,
 "nbformat_minor": 2
}
