{
 "cells": [
  {
   "cell_type": "markdown",
   "metadata": {},
   "source": [
    "# Range Sum of BST\n",
    "\n",
    "Source: [https://leetcode.com/problems/range-sum-of-bst/](https://leetcode.com/problems/range-sum-of-bst/)\n",
    "\n",
    "Given the `root` node of a binary search tree, return the sum of values of all nodes with value between `L` and `R` (inclusive).\n",
    "\n",
    "The binary search tree is guaranteed to have unique values.\n",
    "\n",
    " \n",
    "**Example 1:**\n",
    "\n",
    "```\n",
    "Input: root = [10,5,15,3,7,null,18], L = 7, R = 15\n",
    "Output: 32\n",
    "```\n",
    "\n",
    "**Example 2:**\n",
    "\n",
    "```\n",
    "Input: root = [10,5,15,3,7,13,18,1,null,6], L = 6, R = 10\n",
    "Output: 23\n",
    "```\n",
    "\n",
    "**Note:**\n",
    "\n",
    "1. The number of nodes in the tree is at most `10000`.\n",
    "2. The final answer is guaranteed to be less than `2^31`.\n",
    "\n",
    "### Solution 1 (Recursive)"
   ]
  },
  {
   "cell_type": "code",
   "execution_count": 1,
   "metadata": {},
   "outputs": [],
   "source": [
    "class TreeNode(object):\n",
    "    def __init__(self, x):\n",
    "        self.val = x\n",
    "        self.left = None\n",
    "        self.right = None"
   ]
  },
  {
   "cell_type": "code",
   "execution_count": 2,
   "metadata": {},
   "outputs": [],
   "source": [
    "def rangeSumBST(root, L, R):\n",
    "    def search(head, result):\n",
    "        result = 0\n",
    "        if head:\n",
    "            if L <= head.val <= R:\n",
    "                result += head.val\n",
    "            if L < head.val:\n",
    "                result += search(head.left, result)\n",
    "            if R > head.val:\n",
    "                result += search(head.right, result)\n",
    "        return result\n",
    "    \n",
    "    res = search(root, 0)\n",
    "    return res"
   ]
  },
  {
   "cell_type": "code",
   "execution_count": 3,
   "metadata": {},
   "outputs": [
    {
     "name": "stdout",
     "output_type": "stream",
     "text": [
      "32\n"
     ]
    }
   ],
   "source": [
    "tree1 = TreeNode(10)\n",
    "tree1.left, tree1.right = TreeNode(5), TreeNode(15)\n",
    "tree1.left.left, tree1.left.right = TreeNode(3), TreeNode(7)\n",
    "tree1.right.right = TreeNode(18)\n",
    "\n",
    "print(rangeSumBST(tree1, 7, 15))"
   ]
  },
  {
   "cell_type": "code",
   "execution_count": 4,
   "metadata": {},
   "outputs": [
    {
     "name": "stdout",
     "output_type": "stream",
     "text": [
      "23\n"
     ]
    }
   ],
   "source": [
    "tree2 = TreeNode(10)\n",
    "tree2.left, tree2.right = TreeNode(5), TreeNode(15)\n",
    "tree2.left.left, tree2.left.right = TreeNode(3), TreeNode(7)\n",
    "tree2.right.left, tree2.right.right = TreeNode(13), TreeNode(18)\n",
    "tree2.left.left.left, tree2.left.right.left = TreeNode(1), TreeNode(6)\n",
    "\n",
    "print(rangeSumBST(tree2, 6, 10))"
   ]
  },
  {
   "cell_type": "markdown",
   "metadata": {},
   "source": [
    "### Solution 2 (Iterative)"
   ]
  },
  {
   "cell_type": "code",
   "execution_count": 5,
   "metadata": {},
   "outputs": [],
   "source": [
    "def rangeSumBST(root, L, R):\n",
    "    result = 0\n",
    "    stack = [root]\n",
    "    while stack:\n",
    "        node = stack.pop()\n",
    "        if node:\n",
    "            if L <= node.val <= R:\n",
    "                result += node.val\n",
    "            if L < node.val:\n",
    "                stack.append(node.left)\n",
    "            if R > node.val:\n",
    "                stack.append(node.right)\n",
    "    \n",
    "    return result"
   ]
  },
  {
   "cell_type": "code",
   "execution_count": 6,
   "metadata": {},
   "outputs": [
    {
     "name": "stdout",
     "output_type": "stream",
     "text": [
      "32\n",
      "23\n"
     ]
    }
   ],
   "source": [
    "print(rangeSumBST(tree1, 7, 15))\n",
    "print(rangeSumBST(tree2, 6, 10))"
   ]
  }
 ],
 "metadata": {
  "kernelspec": {
   "display_name": "Python 3",
   "language": "python",
   "name": "python3"
  },
  "language_info": {
   "codemirror_mode": {
    "name": "ipython",
    "version": 3
   },
   "file_extension": ".py",
   "mimetype": "text/x-python",
   "name": "python",
   "nbconvert_exporter": "python",
   "pygments_lexer": "ipython3",
   "version": "3.6.6"
  }
 },
 "nbformat": 4,
 "nbformat_minor": 2
}
