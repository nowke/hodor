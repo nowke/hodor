{
 "cells": [
  {
   "cell_type": "markdown",
   "metadata": {},
   "source": [
    "## Problem 1.1\n",
    "\n",
    "For each function $f(n)$ and time $t$ in the following table, determine the largest size $n$ of a problem that can be solved in time $t$, assuming that the algorithm to solve the problem takes $f(n)$ microseconds."
   ]
  },
  {
   "cell_type": "markdown",
   "metadata": {},
   "source": [
    "|                    |  1 second  |       1 minute       |         1 hour         |           1 day           |           1 month          |            1 year           |          1 century          |\n",
    "|--------------------|:----------:|:--------------------:|:----------------------:|:-------------------------:|:--------------------------:|:---------------------------:|:---------------------------:|\n",
    "| $log_2{n}$         | $2^{10^6}$ |  $2^{6 \\times 10^7}$ |  $2^{3.6 \\times 10^9}$ | $2^{8.64 \\times 10^{10}}$ | $2^{2.592 \\times 10^{12}}$ | $2^{3.1536 \\times 10^{13}}$ | $2^{3.1536 \\times 10^{15}}$ |\n",
    "| $\\sqrt{n}$         |  $10^{12}$ | $3.6 \\times 10^{15}$ | $1.296 \\times 10^{19}$ |   $7.465 \\times 10^{21}$  |    $6.72 \\times 10^{24}$   |    $9.92 \\times 10^{26}$    |    $9.92 \\times 10^{30}$    |\n",
    "| $n$                |   $10^6$   |    $6 \\times 10^7$   |    $3.6 \\times 10^9$   |   $8.64 \\times 10^{10}$   |    $2.59 \\times 10^{12}$   |    $3.15 \\times 10^{13}$    |    $3.15 \\times 10^{15}$    |\n",
    "| $n \\cdot log_2{n}$ |   $62746$  |      $28014174$      |   $1.33 \\times 10^8$   |   $2.755 \\times 10^{9}$   |   $7.187 \\times 10^{10}$   |    $7.97 \\times 10^{11}$    |    $6.86 \\times 10^{13}$    |\n",
    "| $n^2$              |   $1,000$  |        $7,745$       |        $60,000$        |         $293,938$         |         $1,609,968$        |         $5,615,692$         |         $56,156,922$        |\n",
    "| $n^3$              |    $100$   |         $391$        |         $1,532$        |          $4,420$          |          $13,736$          |           $31,593$          |          $146,645$          |\n",
    "| $2^n$              |    $19$    |         $25$         |          $31$          |            $36$           |            $41$            |             $44$            |             $51$            |\n",
    "| $n!$               |     $9$    |         $11$         |          $12$          |            $13$           |            $15$            |             $16$            |             $17$            |"
   ]
  },
  {
   "cell_type": "markdown",
   "metadata": {},
   "source": [
    "For $log_2{n}$, answer is calculated as follows\n",
    "\n",
    "**1 second**\n",
    "$$log_2{n} = 1 \\times 10^6$$\n",
    "$$n = 2^{10^6}$$\n",
    "\n",
    "**1 minute**\n",
    "$$log_2{n} = 60 \\times 10^6$$\n",
    "$$n = 2^{6 \\times 10^7}$$\n",
    "\n",
    "Similar procedure is used for $\\sqrt{n}, n, n^2, n^3$ and  $2^n$\n",
    "\n",
    "For $n \\times log_2{n}$, [Fixed-point iteration](https://en.wikipedia.org/wiki/Fixed-point_iteration) can be used as\n",
    "$$f(n) = n \\times log_2{n}$$\n",
    "$$n \\rightarrow \\frac{f(n)}{log_2{n}}$$"
   ]
  },
  {
   "cell_type": "code",
   "execution_count": 1,
   "metadata": {},
   "outputs": [],
   "source": [
    "import math\n",
    "\n",
    "def fixed_point_iter(fn, first_guess, tolerance = 0.00001):\n",
    "    guess = first_guess\n",
    "    while abs(guess - fn(guess)) > tolerance:\n",
    "        guess = fn(guess)\n",
    "    return guess\n",
    "        \n",
    "def get_n_for_n_log_n(time):\n",
    "    log2 = math.log(2)\n",
    "    return math.floor(\n",
    "        fixed_point_iter(\n",
    "            lambda x: time / (math.log(x) / log2),\n",
    "            100,\n",
    "            tolerance = 1)\n",
    "    )"
   ]
  },
  {
   "cell_type": "markdown",
   "metadata": {},
   "source": [
    "For 1 second, `time = 10**6`"
   ]
  },
  {
   "cell_type": "code",
   "execution_count": 2,
   "metadata": {},
   "outputs": [
    {
     "data": {
      "text/plain": [
       "62745"
      ]
     },
     "execution_count": 2,
     "metadata": {},
     "output_type": "execute_result"
    }
   ],
   "source": [
    "get_n_for_n_log_n(10**6)"
   ]
  },
  {
   "cell_type": "markdown",
   "metadata": {},
   "source": [
    "We can also use `scipy.optimize.fixed_point` function."
   ]
  },
  {
   "cell_type": "code",
   "execution_count": 12,
   "metadata": {},
   "outputs": [],
   "source": [
    "from scipy.optimize import fixed_point\n",
    "\n",
    "def get_n_for_n_log_n(time):\n",
    "    log2 = math.log(2)\n",
    "    return math.floor(\n",
    "        fixed_point(\n",
    "            lambda x: time / (math.log(x) / log2),\n",
    "            [100],\n",
    "            xtol = 0.001\n",
    "        )\n",
    "    )"
   ]
  },
  {
   "cell_type": "markdown",
   "metadata": {},
   "source": [
    "We can retrieve all values:"
   ]
  },
  {
   "cell_type": "code",
   "execution_count": 13,
   "metadata": {},
   "outputs": [
    {
     "name": "stdout",
     "output_type": "stream",
     "text": [
      "For 1 second, n = 62746\n",
      "For 1 minute, n = 2801417\n",
      "For 1 hour, n = 133378059\n",
      "For 1 day, n = 2755147515\n",
      "For 1 month, n = 71870856441\n",
      "For 1 year, n = 797633893656\n",
      "For 1 century, n = 68610956766262\n"
     ]
    }
   ],
   "source": [
    "time_map = {\n",
    "    \"1 second\": 10**6,\n",
    "    \"1 minute\": 60 * 10**6,\n",
    "    \"1 hour\": 60 * 60 * 10**6,\n",
    "    \"1 day\": 24 * 60 * 60 * 10**6,\n",
    "    \"1 month\": 30 * 24 * 60 * 60 * 10**6,\n",
    "    \"1 year\": 365 * 24 * 60 * 60 * 10**6,\n",
    "    \"1 century\": 100 * 365 * 24 * 60 * 60 * 10**6\n",
    "}\n",
    "for label, time in time_map.items():\n",
    "    n = get_n_for_n_log_n(time)\n",
    "    print(f'For {label}, n = {n}')"
   ]
  },
  {
   "cell_type": "markdown",
   "metadata": {},
   "source": [
    "For $n!$, we can simply try values since we do not cross $20!$"
   ]
  },
  {
   "cell_type": "code",
   "execution_count": null,
   "metadata": {},
   "outputs": [],
   "source": []
  }
 ],
 "metadata": {
  "kernelspec": {
   "display_name": "Python 3",
   "language": "python",
   "name": "python3"
  },
  "language_info": {
   "codemirror_mode": {
    "name": "ipython",
    "version": 3
   },
   "file_extension": ".py",
   "mimetype": "text/x-python",
   "name": "python",
   "nbconvert_exporter": "python",
   "pygments_lexer": "ipython3",
   "version": "3.6.6"
  }
 },
 "nbformat": 4,
 "nbformat_minor": 2
}
