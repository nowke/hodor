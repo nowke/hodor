{
 "cells": [
  {
   "cell_type": "markdown",
   "metadata": {},
   "source": [
    "# Insertion Sort"
   ]
  },
  {
   "cell_type": "markdown",
   "metadata": {},
   "source": [
    "**Pseudocode**\n",
    "\n",
    "**INSERTION-SORT(A)**\n",
    "\n",
    "```\n",
    "1  for j = 2 to A.length\n",
    "2      key = A[j]\n",
    "3      // Insert A[j] into the sorted sequence A[1..j-1]\n",
    "4      i = j -1 \n",
    "5 .    while i > 0 and A[i] > key\n",
    "6          A[i+1] = A[i]\n",
    "7          i = i - 1\n",
    "8      A[i+1] = key\n",
    "```"
   ]
  },
  {
   "cell_type": "markdown",
   "metadata": {},
   "source": [
    "**Python code**"
   ]
  },
  {
   "cell_type": "code",
   "execution_count": 6,
   "metadata": {},
   "outputs": [],
   "source": [
    "def insertion_sort(A):\n",
    "    \"\"\"Sorts the array `A` in ascending order using `Insertion sort` algorithm\n",
    "    \n",
    "    Args:\n",
    "        A: Array of numbers to be sorted\n",
    "        \n",
    "    Returns:\n",
    "        Array of numbers in sorted, ascending order\n",
    "    \"\"\"\n",
    "    for j in range(1, len(A)):\n",
    "        key = A[j]\n",
    "        # Insert A[j] into the sorted sequence A[0..j-1]\n",
    "        i = j - 1\n",
    "        while i > -1 and A[i] > key:\n",
    "            A[i + 1] = A[i]\n",
    "            i = i - 1\n",
    "        A[i + 1] = key \n",
    "    return A"
   ]
  },
  {
   "cell_type": "code",
   "execution_count": 22,
   "metadata": {},
   "outputs": [
    {
     "name": "stdout",
     "output_type": "stream",
     "text": [
      "Input: [31, 41, 59, 26, 41, 58]\n",
      "Sorted: [26, 31, 41, 41, 58, 59]\n",
      "\n",
      "Input: []\n",
      "Sorted: []\n",
      "\n",
      "Input: [40, 20]\n",
      "Sorted: [20, 40]\n",
      "\n",
      "Input: [1]\n",
      "Sorted: [1]\n",
      "\n",
      "Input: [10, 9, 8, 7]\n",
      "Sorted: [7, 8, 9, 10]\n",
      "\n",
      "Input: [7, 8, 9, 10]\n",
      "Sorted: [7, 8, 9, 10]\n",
      "\n"
     ]
    }
   ],
   "source": [
    "tests = [\n",
    "    [31, 41, 59, 26, 41, 58],\n",
    "    [],\n",
    "    [40, 20],\n",
    "    [1],\n",
    "    [10, 9, 8, 7],\n",
    "    [7, 8, 9, 10]\n",
    "]\n",
    "\n",
    "for input_array in tests:\n",
    "    print(f'Input: {input_array}')\n",
    "    output_array = insertion_sort(input_array)\n",
    "    print(f'Sorted: {output_array}\\n')"
   ]
  }
 ],
 "metadata": {
  "kernelspec": {
   "display_name": "Python 3",
   "language": "python",
   "name": "python3"
  },
  "language_info": {
   "codemirror_mode": {
    "name": "ipython",
    "version": 3
   },
   "file_extension": ".py",
   "mimetype": "text/x-python",
   "name": "python",
   "nbconvert_exporter": "python",
   "pygments_lexer": "ipython3",
   "version": "3.6.6"
  }
 },
 "nbformat": 4,
 "nbformat_minor": 2
}
