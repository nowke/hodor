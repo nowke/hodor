{
 "cells": [
  {
   "cell_type": "markdown",
   "metadata": {},
   "source": [
    "### Problem 2-1\n",
    "\n",
    "> Although merge sort runs in $\\Theta(n\\cdot log_2n)$ worst-case time and insertion sort runs in $\\Theta(n^2)$ worst-case time, the constant factors in insertion sort can make it faster in practice for small problem sizes on many machines. Thus, it makes sense to ***coarsen*** the leaves of the recursion by using insertion sort within merge sort when subproblems become sufficiently small. Consider a modification to merge sort in which *n / k* sublists of length *k* are sorted using insertion sort and then merged using the standard merging mechanism, where *k* is a value to be determined.\n",
    "\n",
    "&nbsp;\n",
    "\n",
    "> (a) Show that insertion sort can sort the *n/k* sublists, each of length *k*, in $\\Theta(nk)$ worst-case time.\n",
    "\n",
    "If there are *k* elements, insertion sort takes $\\Theta(k^2)$ worst-case time. Hence, for *n/k* sub-arrays of *k* elements,\n",
    "\n",
    "$$\\Theta(k^2 \\cdot \\frac{n}{k}) = \\Theta(nk)$$\n",
    "\n",
    "> (b) Show how to merge the sublists in $\\Theta(n \\cdot log_2({n/k}))$ worst-case time.\n",
    "\n",
    "In merge sort, we know that height of tree (by halving at each step, problem of size n into subproblems of size 1) is $log_2n$.\n",
    "\n",
    "But we decided to stop when the subproblem becomes sufficiently small - i.e. at *k*. Hence height of the tree is $log_2n - log_2k = log_2(n/k)$.\n",
    "\n",
    "At each step, we are merging a total of *n* elements ($n/k \\cdot k$). Hence merging takes a total of $\\Theta(n)$ time.\n",
    "\n",
    "Therefore merging sublists takes,\n",
    "\n",
    "$$\\Theta(n \\cdot log_2(n/k))$$\n",
    "\n",
    "> (c) Given that the modified algorithm runs in $\\Theta(nk + n \\cdot log_2(n/k))$ worst-case time, what is the largest value of *k* as a function of *n* for which the modified algorithm has the same running time as standard merge sort, in terms of $\\Theta$-notation?\n",
    "\n",
    "For the modified algorithm to have same worst-case time as original algorithm,\n",
    "\n",
    "$$\\Theta(nk + n \\cdot log_2(n/k)) = \\Theta(n\\cdot log_2n)$$\n",
    "\n",
    "To satisfy this condition, *k* cannot be more than $\\Theta(log_2n)$\n",
    "\n",
    "To prove this, we can plug $k = log_2n$ to the modified running time\n",
    "\n",
    "$$\\Theta(nk + n \\cdot log_2(n/k)) = \\Theta(n\\cdot log_2n + n \\cdot log_2n - n \\cdot log_2(log_2n))$$\n",
    "\n",
    "$$ = \\Theta(2n\\cdot log_2n - n \\cdot log_2(log_2n))$$\n",
    "\n",
    "Since $log_2(log_2n)$ is sufficiently small, we get\n",
    "\n",
    "$$ = \\Theta(n \\cdot log_2n) $$\n",
    "\n",
    "which is the original running time.\n",
    "\n",
    "Hence, maximum value of k is\n",
    "\n",
    "$$k = \\Theta(log_2n)$$\n",
    "\n",
    "> (d) How should we choose k in practice?\n",
    "\n",
    "In practice, *k* should be the value of length of array where merge sort beats insertion sort. We can retrieve this by plotting the appropriate graphs.\n"
   ]
  },
  {
   "cell_type": "code",
   "execution_count": null,
   "metadata": {},
   "outputs": [],
   "source": []
  }
 ],
 "metadata": {
  "kernelspec": {
   "display_name": "Python 3",
   "language": "python",
   "name": "python3"
  },
  "language_info": {
   "codemirror_mode": {
    "name": "ipython",
    "version": 3
   },
   "file_extension": ".py",
   "mimetype": "text/x-python",
   "name": "python",
   "nbconvert_exporter": "python",
   "pygments_lexer": "ipython3",
   "version": "3.6.6"
  }
 },
 "nbformat": 4,
 "nbformat_minor": 2
}
