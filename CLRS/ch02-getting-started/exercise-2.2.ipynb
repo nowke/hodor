{
 "cells": [
  {
   "cell_type": "markdown",
   "metadata": {},
   "source": [
    "### Exercise 2.2-1\n",
    "\n",
    "> Express the function $n^3/1000 - 100n^2 - 100n + 3$ in terms of $\\Theta$-notation\n",
    "\n",
    "$$\n",
    "n^3/1000 - 100n^2 - 100n + 3 = \\Theta(n^3)\n",
    "$$\n",
    "\n",
    "### Exercise 2.2-2\n",
    "\n",
    "> Consider sorting *n* numbers stored in array *A* by first finding the smallest element of *A* and exchanging it with the element in *A[1]*. Then find the second smallest element of *A*, and exchange it with *A[2]*. Continue in this manner for the first *n - 1* elements of *A*. Write pseudocode for this algorithm, which is known as ***selection sort***. What loop invariant does this algorithm maintain? Why does it need to run for only the first *n - 1* elements, rather than for all *n* elements? Give the best-case and worst-case running times of selection sort in $\\Theta$-notation.\n",
    "\n",
    "**Pseudocode**\n",
    "\n",
    "**SELECTION-SORT(A)**\n",
    "\n",
    "```\n",
    "1  for i = 1 to n - 1\n",
    "2     min = i\n",
    "3     for j = i + 1 to n\n",
    "4         if A[j] < min\n",
    "5             min = A[j]\n",
    "6     swap(A[min], A[i])\n",
    "```\n",
    "\n",
    "**Loop Invariant**: At each iteration *i*, subarray *A[1..i-1]* is in sorted order.\n",
    "\n",
    "The algorithm need to run only for the first *n - 1* elements because, after completing *n - 1* iterations, the subarray A[1..n-1] contains the first *n - 1* smallest elements of the array *A*. Hence the last element A[n] is always the maximum element which is already in the right place.\n",
    "\n",
    "For ***selection sort***, the best case and worst case running time are $\\Theta(n^2)$. This is because, both the outer and inner loops are executed regardless of the elements.\n",
    "\n",
    "**Python code**"
   ]
  },
  {
   "cell_type": "code",
   "execution_count": 10,
   "metadata": {},
   "outputs": [],
   "source": [
    "def selection_sort(A):\n",
    "    \"\"\"Sorts the array `A` in ascending order using `Selection sort` algorithm\n",
    "    \n",
    "    Args:\n",
    "        A: Array of numbers to be sorted\n",
    "        \n",
    "    Returns:\n",
    "        Array of numbers in sorted, ascending order\n",
    "    \"\"\"\n",
    "    for i in range(0, len(A) - 1):\n",
    "        min_index = i\n",
    "        for j in range(i + 1, len(A)):\n",
    "            if A[j] < A[min_index]:\n",
    "                min_index = j\n",
    "        A[min_index], A[i] = A[i], A[min_index]  # Swap\n",
    "    return A"
   ]
  },
  {
   "cell_type": "code",
   "execution_count": 11,
   "metadata": {},
   "outputs": [
    {
     "name": "stdout",
     "output_type": "stream",
     "text": [
      "Input: [31, 41, 59, 26, 41, 58]\n",
      "Sorted: [26, 31, 41, 41, 58, 59]\n",
      "\n",
      "Input: []\n",
      "Sorted: []\n",
      "\n",
      "Input: [40, 20]\n",
      "Sorted: [20, 40]\n",
      "\n",
      "Input: [1]\n",
      "Sorted: [1]\n",
      "\n",
      "Input: [10, 9, 8, 7]\n",
      "Sorted: [7, 8, 9, 10]\n",
      "\n",
      "Input: [7, 8, 9, 10]\n",
      "Sorted: [7, 8, 9, 10]\n",
      "\n"
     ]
    }
   ],
   "source": [
    "tests = [\n",
    "    [31, 41, 59, 26, 41, 58],\n",
    "    [],\n",
    "    [40, 20],\n",
    "    [1],\n",
    "    [10, 9, 8, 7],\n",
    "    [7, 8, 9, 10]\n",
    "]\n",
    "\n",
    "for input_array in tests:\n",
    "    print(f'Input: {input_array}')\n",
    "    output_array = selection_sort(input_array)\n",
    "    print(f'Sorted: {output_array}\\n')"
   ]
  },
  {
   "cell_type": "markdown",
   "metadata": {},
   "source": [
    "### Exercise 2.2-3\n",
    "\n",
    "> Consider linear search again (see Exercise 2.1-3). How many elements of the input sequence need to be checked on the average, assuming that the element being searched for is equally likely to be any element in the array? How about in the worst case? What are the average-case and worst-case running times of linear search in $\\Theta$-notation? Justify your answers.\n",
    "\n",
    "For simplicity assume that, average case means the element is found midway.\n",
    "\n",
    "If there are *n* elements in the array *A*, then on an ***average*** *n/2* elements need to be checked. If the value we are looking for is not present in the array, we would have to scan the entire array. Hence ***worst case***, we need to check all the *n* elements. \n",
    "\n",
    "Let us calculate the running time of **Linear search**\n",
    "\n",
    "```\n",
    "   LINE                      cost   times\n",
    "1  i = NIL                    c1      1\n",
    "2  for j = 1 to A.length      c2     n+1\n",
    "3      if A[j] = v            c3      n\n",
    "4          i = j              c4      1 or 0 \n",
    "5          return i           c5      1 or 0\n",
    "6  return i                   c6      1\n",
    "```\n",
    "\n",
    "For **worst case**,\n",
    "\n",
    "$$\n",
    "T(n) = c_1 + (n+1)\\cdot c_2 + n\\cdot c_3 + 1\n",
    "$$\n",
    "\n",
    "$$\n",
    "= (c_2 + c_3)n + (c1 + c2 + c3 + 1)\n",
    "$$\n",
    "\n",
    "$$\n",
    "T(n) = \\Theta(n)\n",
    "$$\n",
    "\n",
    "For **average case**\n",
    "\n",
    "$$\n",
    "T(n) = c_1 + (\\frac{n+1}{2})\\cdot c_2 + \\frac{n}{2} \\cdot c_3 + 1 + 1\n",
    "$$\n",
    "\n",
    "$$\n",
    "= (\\frac{c_2 + c_3}{2})\\cdot n + (c_1 + \\frac{c_2}{2} + 2)\n",
    "$$\n",
    "\n",
    "$$\n",
    "T(n) = \\Theta(n)\n",
    "$$"
   ]
  },
  {
   "cell_type": "markdown",
   "metadata": {},
   "source": [
    "### Exercise 2.2-4\n",
    "\n",
    "> How can we modify almost any algorithm to have a good best-case running time?\n",
    "\n",
    "To achieve good best-case running time, predefine or generate an output before running the actual steps. Check if the output satisfies the goal or termination invariant. For example, in Insertion sort, predefine output same as input. In best case, it would already be in sorted order."
   ]
  }
 ],
 "metadata": {
  "kernelspec": {
   "display_name": "Python 3",
   "language": "python",
   "name": "python3"
  },
  "language_info": {
   "codemirror_mode": {
    "name": "ipython",
    "version": 3
   },
   "file_extension": ".py",
   "mimetype": "text/x-python",
   "name": "python",
   "nbconvert_exporter": "python",
   "pygments_lexer": "ipython3",
   "version": "3.6.6"
  }
 },
 "nbformat": 4,
 "nbformat_minor": 2
}
