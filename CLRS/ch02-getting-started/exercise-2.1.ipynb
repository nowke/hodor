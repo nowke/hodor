{
 "cells": [
  {
   "cell_type": "markdown",
   "metadata": {},
   "source": [
    "### Exercise 2.1-1\n",
    "\n",
    "> Using Figure 2.2 as a model, illustrate the operation of `INSERTION-SORT` on the array *A = [31, 41, 59, 26, 41, 58]*."
   ]
  },
  {
   "cell_type": "markdown",
   "metadata": {},
   "source": [
    "```\n",
    "Iteration 1\n",
    "           1  2  3  4  5  6\n",
    "          [31 41 59 26 41 58]\n",
    "          \n",
    "Iteration 2 \n",
    "           1  2  3  4  5  6\n",
    "          [31 41 59 26 41 58]\n",
    "          \n",
    "Iteration 3 \n",
    "           1  2  3  4  5  6\n",
    "          [31 41 59 26 41 58]\n",
    "          \n",
    "Iteration 4\n",
    "           1  2  3  4  5  6\n",
    "          [26 31 41 59 41 58]\n",
    "\n",
    "Iteration 5\n",
    "           1  2  3  4  5  6\n",
    "          [26 31 41 41 59 58]\n",
    "          \n",
    "Iteration 6\n",
    "           1  2  3  4  5  6\n",
    "          [26 31 41 41 58 59]\n",
    "```"
   ]
  },
  {
   "cell_type": "markdown",
   "metadata": {},
   "source": [
    "### Exercise 2.1-2\n",
    "\n",
    "> Rewrite the `INSERTION-SORT` procedure to sort into nonincreasing instead of non-decreasing order."
   ]
  },
  {
   "cell_type": "markdown",
   "metadata": {},
   "source": [
    "**NON-INCREASING INSERTION-SORT(A)**\n",
    "\n",
    "```\n",
    "1  for j = 2 to A.length\n",
    "2      key = A[j]\n",
    "3      // Insert A[j] into the sorted sequence A[1..j-1]\n",
    "4      i = j -1 \n",
    "5      while i > 0 and A[i] < key\n",
    "6          A[i+1] = A[i]\n",
    "7          i = i - 1\n",
    "8      A[i+1] = key\n",
    "```\n",
    "\n",
    "**Python code**"
   ]
  },
  {
   "cell_type": "code",
   "execution_count": 1,
   "metadata": {},
   "outputs": [],
   "source": [
    "def insertion_sort(A):\n",
    "    \"\"\"Sorts the array `A` in descending order using `Insertion sort` algorithm\n",
    "    \n",
    "    Args:\n",
    "        A: Array of numbers to be sorted\n",
    "        \n",
    "    Returns:\n",
    "        Array of numbers in sorted, descending order\n",
    "    \"\"\"\n",
    "    for j in range(1, len(A)):\n",
    "        key = A[j]\n",
    "        # Insert A[j] into the sorted sequence A[0..j-1]\n",
    "        i = j - 1\n",
    "        while i > -1 and A[i] < key:\n",
    "            A[i + 1] = A[i]\n",
    "            i = i - 1\n",
    "        A[i + 1] = key \n",
    "    return A"
   ]
  },
  {
   "cell_type": "code",
   "execution_count": 2,
   "metadata": {},
   "outputs": [
    {
     "name": "stdout",
     "output_type": "stream",
     "text": [
      "Input: [31, 41, 59, 26, 41, 58]\n",
      "Sorted: [59, 58, 41, 41, 31, 26]\n",
      "\n",
      "Input: []\n",
      "Sorted: []\n",
      "\n",
      "Input: [40, 20]\n",
      "Sorted: [40, 20]\n",
      "\n",
      "Input: [1]\n",
      "Sorted: [1]\n",
      "\n",
      "Input: [10, 9, 8, 7]\n",
      "Sorted: [10, 9, 8, 7]\n",
      "\n",
      "Input: [7, 8, 9, 10]\n",
      "Sorted: [10, 9, 8, 7]\n",
      "\n"
     ]
    }
   ],
   "source": [
    "tests = [\n",
    "    [31, 41, 59, 26, 41, 58],\n",
    "    [],\n",
    "    [40, 20],\n",
    "    [1],\n",
    "    [10, 9, 8, 7],\n",
    "    [7, 8, 9, 10]\n",
    "]\n",
    "\n",
    "for input_array in tests:\n",
    "    print(f'Input: {input_array}')\n",
    "    output_array = insertion_sort(input_array)\n",
    "    print(f'Sorted: {output_array}\\n')"
   ]
  },
  {
   "cell_type": "markdown",
   "metadata": {},
   "source": [
    "### Exercise 2.1-3\n",
    "\n",
    "Consider the ***searching problem***:\n",
    "\n",
    "**Input**: A sequence of *n* numbers $A = \\langle a_1, a_2, ... , a_n \\rangle$ and a value *v*\n",
    "\n",
    "**Output**: An index *i* such that $v=A[i]$ or the special value NIL if *v* does not appear in *A*.\n",
    "\n",
    "> Write pseudocode for ***linear search***, which scans through the sequence, looking for *v*. Using a loop invariant, prove that your algorithm is correct. Make sure that your loop invariant fulfills the three necessary properties."
   ]
  },
  {
   "cell_type": "markdown",
   "metadata": {},
   "source": [
    "**Pseudocode**\n",
    "\n",
    "**LINEAR-SEARCH(A, V)**\n",
    "\n",
    "```\n",
    "1  i = NIL\n",
    "2  for j = 1 to A.length\n",
    "3      if A[j] = v\n",
    "4          i = j\n",
    "5          return i\n",
    "6  return i\n",
    "```\n",
    "\n",
    "**Proof using Loop invariant**\n",
    "\n",
    "**Invariant**: At any point of time, the variable *i* holds the value of the index, till the point array has been scanned.\n",
    "\n",
    "**Initialization**: Before the loop starts, the value of *i* is *NIL*, which is the right value since the array has not yet been searched, and assumed value is *NIL*\n",
    "\n",
    "**Maintenance**: At each iteration, if *v* is equal to current element in *A*, value of that index *j* is assigned to *i*, which is the correct value to be returned. If not, value of *i* is still *NIL*.\n",
    "\n",
    "**Termination**: If the loop is termintaed, it means that *v* is not found in A, and hence value of *i* remains *NIL*. Hence the algorithm is correct\n",
    "\n",
    "**Python Program**"
   ]
  },
  {
   "cell_type": "code",
   "execution_count": 5,
   "metadata": {},
   "outputs": [],
   "source": [
    "def linear_search(A, v):\n",
    "    \"\"\"Performs a linear search for `v` in array `A`\n",
    "    \n",
    "    Args:\n",
    "        A: Array of numbers\n",
    "        v: Number to be searched in `A`\n",
    "        \n",
    "    Returns:\n",
    "        Index of the array A, if v is found in A\n",
    "        `None` if v is not found in A\n",
    "    \"\"\"\n",
    "    for j in range(0, len(A)):\n",
    "        if A[j] == v:\n",
    "            return j\n",
    "    return None"
   ]
  },
  {
   "cell_type": "code",
   "execution_count": 6,
   "metadata": {},
   "outputs": [
    {
     "name": "stdout",
     "output_type": "stream",
     "text": [
      "Input: A = [31, 41, 59, 26, 41, 58], v = 41\n",
      "Index: 1\n",
      "\n",
      "Input: A = [35, 43, 19], v = 20\n",
      "Index: None\n",
      "\n",
      "Input: A = [], v = 5\n",
      "Index: None\n",
      "\n",
      "Input: A = [1], v = 1\n",
      "Index: 0\n",
      "\n",
      "Input: A = [3], v = -5\n",
      "Index: None\n",
      "\n",
      "Input: A = [5, 7, 8], v = 5\n",
      "Index: 0\n",
      "\n",
      "Input: A = [5, 7, 8], v = 8\n",
      "Index: 2\n",
      "\n"
     ]
    }
   ],
   "source": [
    "tests = [\n",
    "    [[31, 41, 59, 26, 41, 58], 41],\n",
    "    [[35, 43, 19], 20],\n",
    "    [[], 5],\n",
    "    [[1], 1],\n",
    "    [[3], -5],\n",
    "    [[5, 7, 8], 5],\n",
    "    [[5, 7, 8], 8]\n",
    "]\n",
    "\n",
    "for A, v in tests:\n",
    "    print(f'Input: A = {A}, v = {v}')\n",
    "    index = linear_search(A, v)\n",
    "    print(f'Index: {index}\\n')"
   ]
  },
  {
   "cell_type": "markdown",
   "metadata": {},
   "source": [
    "### Exercise 2.1-4\n",
    "\n",
    "> Consider the problem of adding two *n*-bit binary integers, stored in two *n*-element arrays *A* and *B*. The sum of the two integers should be stored in binary form in an *(n + 1)*-element array *C* . State the problem formally and write pseudocode for adding the two integers.\n",
    "\n",
    "**Input**: Arrays *A* and *B* of length *n* containing binary digits 0 and 1 of two numbers *a* and *b*\n",
    "\n",
    "**Output**: Array *C* of length *n + 1* containing binary digits of *a + b*\n",
    "\n",
    "**Pseudocode**\n",
    "\n",
    "**ADD BINARY INTEGERS(A, B)**\n",
    "```\n",
    "1  carry = 0\n",
    "2  for i = n downto 1\n",
    "3      sum = A[i] + B[i] + carry\n",
    "4      C[i + 1] = sum (mod 2)\n",
    "5      if sum > 1\n",
    "6          carry = 1\n",
    "7      else\n",
    "8          carry = 0\n",
    "9  C[1] = carry\n",
    "```\n",
    "\n",
    "**Python code**"
   ]
  },
  {
   "cell_type": "code",
   "execution_count": 9,
   "metadata": {},
   "outputs": [],
   "source": [
    "def add_binary_integers(A, B):\n",
    "    \"\"\"Adds two binary integers\n",
    "    \n",
    "    Args:\n",
    "        A: Array of 0 and 1 representing binary digits\n",
    "        B: Array of 0 and 1 representing binary digits\n",
    "        \n",
    "    Returns:\n",
    "        C: Array of 0 and 1 representing binary digits of A+B\n",
    "    \"\"\"\n",
    "    carry = 0\n",
    "    n = len(A)\n",
    "    C = [0 for x in range(n+1)]\n",
    "    \n",
    "    for i in range(len(A) - 1, -1, -1):\n",
    "        s = A[i] + B[i] + carry\n",
    "        C[i + 1] = s % 2\n",
    "        if s > 1:\n",
    "            carry = 1\n",
    "        else:\n",
    "            carry = 0\n",
    "    C[0] = carry\n",
    "    return C"
   ]
  },
  {
   "cell_type": "code",
   "execution_count": 12,
   "metadata": {},
   "outputs": [
    {
     "name": "stdout",
     "output_type": "stream",
     "text": [
      "A = [0, 0, 0], a = 0\n",
      "B = [0, 0, 0], b = 0\n",
      "C = [0, 0, 0, 0], c = 0\n",
      "\n",
      "A = [0, 0, 1], a = 1\n",
      "B = [0, 1, 0], b = 2\n",
      "C = [0, 0, 1, 1], c = 3\n",
      "\n",
      "A = [1, 1, 1], a = 7\n",
      "B = [1, 1, 1], b = 7\n",
      "C = [1, 1, 1, 0], c = 14\n",
      "\n",
      "A = [1], a = 1\n",
      "B = [1], b = 1\n",
      "C = [1, 0], c = 2\n",
      "\n"
     ]
    }
   ],
   "source": [
    "tests = [\n",
    "    {\"A\": [0, 0, 0], \"B\": [0, 0, 0], \"a\": 0, \"b\": 0, \"c\": 0},\n",
    "    {\"A\": [0, 0, 1], \"B\": [0, 1, 0], \"a\": 1, \"b\": 2, \"c\": 3},\n",
    "    {\"A\": [1, 1, 1], \"B\": [1, 1, 1], \"a\": 7, \"b\": 7, \"c\": 14},\n",
    "    {\"A\": [1], \"B\": [1], \"a\": 1, \"b\": 1, \"c\": 2},\n",
    "]\n",
    "for test in tests:\n",
    "    A, B, a, b, c = test[\"A\"], test[\"B\"], test[\"a\"], test[\"b\"], test[\"c\"]\n",
    "    C = add_binary_integers(A, B)\n",
    "    print(f'A = {A}, a = {a}')\n",
    "    print(f'B = {B}, b = {b}')\n",
    "    print(f'C = {C}, c = {c}\\n')"
   ]
  }
 ],
 "metadata": {
  "kernelspec": {
   "display_name": "Python 3",
   "language": "python",
   "name": "python3"
  },
  "language_info": {
   "codemirror_mode": {
    "name": "ipython",
    "version": 3
   },
   "file_extension": ".py",
   "mimetype": "text/x-python",
   "name": "python",
   "nbconvert_exporter": "python",
   "pygments_lexer": "ipython3",
   "version": "3.6.6"
  }
 },
 "nbformat": 4,
 "nbformat_minor": 2
}
