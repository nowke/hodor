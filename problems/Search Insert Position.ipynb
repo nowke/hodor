{
 "cells": [
  {
   "cell_type": "markdown",
   "metadata": {},
   "source": [
    "# Search Insert Position\n",
    "\n",
    "Source: [https://leetcode.com/problems/search-insert-position/](https://leetcode.com/problems/search-insert-position/)\n",
    "\n",
    "Given a sorted array and a target value, return the index if the target is found. If not, return the index where it would be if it were inserted in order.\n",
    "\n",
    "You may assume no duplicates in the array.\n",
    "\n",
    "**Example 1:**\n",
    "\n",
    "```\n",
    "Input: [1,3,5,6], 5\n",
    "Output: 2\n",
    "```\n",
    "\n",
    "**Example 2:**\n",
    "\n",
    "```\n",
    "Input: [1,3,5,6], 2\n",
    "Output: 1\n",
    "```\n",
    "\n",
    "**Example 3:**\n",
    "\n",
    "```\n",
    "Input: [1,3,5,6], 7\n",
    "Output: 4\n",
    "```\n",
    "\n",
    "**Example 4:**\n",
    "\n",
    "```\n",
    "Input: [1,3,5,6], 0\n",
    "Output: 0\n",
    "```\n",
    "\n",
    "**Recursive version**"
   ]
  },
  {
   "cell_type": "code",
   "execution_count": 1,
   "metadata": {
    "collapsed": true
   },
   "outputs": [],
   "source": [
    "def searchInsert(nums, target):\n",
    "    \"\"\"\n",
    "    :type nums: List[int]\n",
    "    :type target: int\n",
    "    :rtype: int\n",
    "    \"\"\"\n",
    "    low = 0\n",
    "    high = len(nums) - 1\n",
    "    def search(low, high):\n",
    "        if low >= high:\n",
    "            if nums[low] < target: return low + 1\n",
    "            return low\n",
    "        mid = (low + high) // 2\n",
    "        if nums[mid] == target:\n",
    "            return mid\n",
    "        if nums[mid] < target:\n",
    "            return search(mid + 1, high)\n",
    "        if nums[mid] > target:\n",
    "            return search(low, mid - 1)\n",
    "    return search(0, high)"
   ]
  },
  {
   "cell_type": "code",
   "execution_count": 2,
   "metadata": {},
   "outputs": [
    {
     "name": "stdout",
     "output_type": "stream",
     "text": [
      "nums = [1, 3, 5, 6], target = 5\n",
      "Expected output = 2\n",
      "Actual output   = 2\n",
      "\n",
      "nums = [1, 3, 5, 6], target = 2\n",
      "Expected output = 1\n",
      "Actual output   = 1\n",
      "\n",
      "nums = [1, 3, 5, 6], target = 7\n",
      "Expected output = 4\n",
      "Actual output   = 4\n",
      "\n",
      "nums = [1, 3, 5, 6], target = 0\n",
      "Expected output = 0\n",
      "Actual output   = 0\n",
      "\n"
     ]
    }
   ],
   "source": [
    "tests = [\n",
    "    { \"nums\": [1,3,5,6], \"target\": 5, \"expected_output\": 2 },\n",
    "    { \"nums\": [1,3,5,6], \"target\": 2, \"expected_output\": 1 },\n",
    "    { \"nums\": [1,3,5,6], \"target\": 7, \"expected_output\": 4 },\n",
    "    { \"nums\": [1,3,5,6], \"target\": 0, \"expected_output\": 0 },\n",
    "]\n",
    "\n",
    "for test in tests:\n",
    "    nums, target, expected_output = test[\"nums\"], test[\"target\"], test[\"expected_output\"]\n",
    "    output = searchInsert(nums, target)\n",
    "    print(f'nums = {nums}, target = {target}')\n",
    "    print(f'Expected output = {expected_output}')\n",
    "    print(f'Actual output   = {output}\\n')"
   ]
  },
  {
   "cell_type": "markdown",
   "metadata": {},
   "source": [
    "**Iterative version**"
   ]
  },
  {
   "cell_type": "code",
   "execution_count": 3,
   "metadata": {},
   "outputs": [],
   "source": [
    "def searchInsert(nums, target):\n",
    "    \"\"\"\n",
    "    :type nums: List[int]\n",
    "    :type target: int\n",
    "    :rtype: int\n",
    "    \"\"\"\n",
    "    low = 0\n",
    "    high = len(nums) - 1\n",
    "    \n",
    "    while low < high:\n",
    "        mid = (low + high) // 2\n",
    "        if nums[mid] == target:\n",
    "            return mid\n",
    "        if nums[mid] < target:\n",
    "            low = mid + 1\n",
    "        if nums[mid] > target:\n",
    "            high = mid - 1\n",
    "            \n",
    "    if nums[low] < target: \n",
    "        return low + 1\n",
    "    return low"
   ]
  },
  {
   "cell_type": "code",
   "execution_count": 4,
   "metadata": {},
   "outputs": [
    {
     "name": "stdout",
     "output_type": "stream",
     "text": [
      "nums = [1, 3, 5, 6], target = 5\n",
      "Expected output = 2\n",
      "Actual output   = 2\n",
      "\n",
      "nums = [1, 3, 5, 6], target = 2\n",
      "Expected output = 1\n",
      "Actual output   = 1\n",
      "\n",
      "nums = [1, 3, 5, 6], target = 7\n",
      "Expected output = 4\n",
      "Actual output   = 4\n",
      "\n",
      "nums = [1, 3, 5, 6], target = 0\n",
      "Expected output = 0\n",
      "Actual output   = 0\n",
      "\n"
     ]
    }
   ],
   "source": [
    "tests = [\n",
    "    { \"nums\": [1,3,5,6], \"target\": 5, \"expected_output\": 2 },\n",
    "    { \"nums\": [1,3,5,6], \"target\": 2, \"expected_output\": 1 },\n",
    "    { \"nums\": [1,3,5,6], \"target\": 7, \"expected_output\": 4 },\n",
    "    { \"nums\": [1,3,5,6], \"target\": 0, \"expected_output\": 0 },\n",
    "]\n",
    "\n",
    "for test in tests:\n",
    "    nums, target, expected_output = test[\"nums\"], test[\"target\"], test[\"expected_output\"]\n",
    "    output = searchInsert(nums, target)\n",
    "    print(f'nums = {nums}, target = {target}')\n",
    "    print(f'Expected output = {expected_output}')\n",
    "    print(f'Actual output   = {output}\\n')"
   ]
  },
  {
   "cell_type": "markdown",
   "metadata": {},
   "source": [
    "### Complexity\n",
    "\n",
    "* **Time complexity: ** $O(log_2n)$ - A binary search\n",
    "* **Space complexity: ** \n",
    "   * $\\Theta(log_2n)$ - for recursive version (stack frame)\n",
    "   * $O(1)$ - for iterative version"
   ]
  }
 ],
 "metadata": {
  "kernelspec": {
   "display_name": "Python 3",
   "language": "python",
   "name": "python3"
  },
  "language_info": {
   "codemirror_mode": {
    "name": "ipython",
    "version": 3
   },
   "file_extension": ".py",
   "mimetype": "text/x-python",
   "name": "python",
   "nbconvert_exporter": "python",
   "pygments_lexer": "ipython3",
   "version": "3.6.1"
  }
 },
 "nbformat": 4,
 "nbformat_minor": 2
}
