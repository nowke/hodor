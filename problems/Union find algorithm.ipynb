{
 "cells": [
  {
   "cell_type": "markdown",
   "metadata": {},
   "source": [
    "# Union Find\n",
    "\n",
    "Case study of **Union Find** algorithm\n",
    "\n",
    "Reference: [https://algs4.cs.princeton.edu/15uf/](https://algs4.cs.princeton.edu/15uf/)\n",
    "\n",
    "## Implementation 1"
   ]
  },
  {
   "cell_type": "code",
   "execution_count": 1,
   "metadata": {},
   "outputs": [],
   "source": [
    "class UF:\n",
    "    def __init__(self, N):\n",
    "        self.ids = list(range(N))\n",
    "        \n",
    "    def union(self, p, q):\n",
    "        \"\"\"Connects numbers p and q\"\"\"\n",
    "        p_id = self.ids[p]\n",
    "        q_id = self.ids[q]\n",
    "        for i in range(len(self.ids)):\n",
    "            if self.ids[i] == p_id:\n",
    "                self.ids[i] = q_id\n",
    "    \n",
    "    def connected(self, p, q):\n",
    "        \"\"\"Returns whether p and q are connected\"\"\"\n",
    "        return self.ids[p] == self.ids[q]"
   ]
  },
  {
   "cell_type": "code",
   "execution_count": 2,
   "metadata": {},
   "outputs": [
    {
     "name": "stdout",
     "output_type": "stream",
     "text": [
      "[0, 1, 2, 3, 3, 5, 6, 7, 8, 9]\n",
      "[0, 1, 2, 8, 8, 5, 6, 7, 8, 9]\n",
      "[0, 1, 2, 8, 8, 5, 5, 7, 8, 9]\n",
      "[0, 1, 2, 8, 8, 5, 5, 7, 8, 8]\n",
      "[0, 1, 1, 8, 8, 5, 5, 7, 8, 8]\n",
      "True\n",
      "False\n",
      "[0, 1, 1, 8, 8, 0, 0, 7, 8, 8]\n",
      "[0, 1, 1, 8, 8, 0, 0, 1, 8, 8]\n",
      "[1, 1, 1, 8, 8, 1, 1, 1, 8, 8]\n"
     ]
    }
   ],
   "source": [
    "uf = UF(10)\n",
    "uf.union(4, 3)\n",
    "print(uf.ids)\n",
    "\n",
    "uf.union(3, 8)\n",
    "print(uf.ids)\n",
    "\n",
    "uf.union(6, 5)\n",
    "print(uf.ids)\n",
    "\n",
    "uf.union(9, 4)\n",
    "print(uf.ids)\n",
    "\n",
    "uf.union(2, 1)\n",
    "print(uf.ids)\n",
    "\n",
    "print(uf.connected(8, 9))\n",
    "print(uf.connected(5, 0))\n",
    "\n",
    "uf.union(5, 0)\n",
    "print(uf.ids)\n",
    "\n",
    "uf.union(7, 2)\n",
    "print(uf.ids)\n",
    "\n",
    "uf.union(6, 1)\n",
    "print(uf.ids)"
   ]
  },
  {
   "cell_type": "markdown",
   "metadata": {},
   "source": [
    "### Order of growth of number of array access\n",
    "\n",
    "|  algorithm | initialize | union | find |\n",
    "|:----------:|:----------:|:-----:|:----:|\n",
    "| quick-find |      N     |   N   |   1  |\n",
    "\n",
    "* Too expensive Union operation\n",
    "* Takes $N^2$ array access to process sequence of $N$ union commands on $N$ objects"
   ]
  }
 ],
 "metadata": {
  "kernelspec": {
   "display_name": "Python 3",
   "language": "python",
   "name": "python3"
  },
  "language_info": {
   "codemirror_mode": {
    "name": "ipython",
    "version": 3
   },
   "file_extension": ".py",
   "mimetype": "text/x-python",
   "name": "python",
   "nbconvert_exporter": "python",
   "pygments_lexer": "ipython3",
   "version": "3.6.6"
  }
 },
 "nbformat": 4,
 "nbformat_minor": 2
}
