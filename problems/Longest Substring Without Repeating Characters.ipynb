{
 "cells": [
  {
   "cell_type": "markdown",
   "metadata": {},
   "source": [
    "# Longest Substring Without Repeating Characters\n",
    "\n",
    "Source: [https://leetcode.com/problems/longest-substring-without-repeating-characters/](https://leetcode.com/problems/longest-substring-without-repeating-characters/)\n",
    "\n",
    "Given a string, find the length of the **longest substring** without repeating characters.\n",
    "\n",
    "**Example 1:**\n",
    "\n",
    "```\n",
    "Input: \"abcabcbb\"\n",
    "Output: 3 \n",
    "Explanation: The answer is \"abc\", with the length of 3. \n",
    "```\n",
    "\n",
    "**Example 2:**\n",
    "\n",
    "```\n",
    "Input: \"bbbbb\"\n",
    "Output: 1\n",
    "Explanation: The answer is \"b\", with the length of 1.\n",
    "```\n",
    "\n",
    "**Example 3:**\n",
    "\n",
    "```\n",
    "Input: \"pwwkew\"\n",
    "Output: 3\n",
    "Explanation: The answer is \"wke\", with the length of 3. \n",
    "             Note that the answer must be a substring, \"pwke\" is a subsequence and not a substring.\n",
    "```\n",
    "\n",
    "### Solution 1 (Using lookup)"
   ]
  },
  {
   "cell_type": "code",
   "execution_count": 1,
   "metadata": {},
   "outputs": [],
   "source": [
    "def lengthOfLongestSubstring(s):\n",
    "    \"\"\"Returs length of longest substring without repeating characters\n",
    "    \n",
    "    Args:\n",
    "        s: Input string\n",
    "    Returns:\n",
    "        Length of longest substring of S without repeating characters\n",
    "    \"\"\"\n",
    "    if s == \"\": \n",
    "        return 0\n",
    "    \n",
    "    max_length, count = 1, 0\n",
    "    lookup = {}\n",
    "    for i, char in enumerate(s):\n",
    "        lookup_index = lookup.get(char, None)\n",
    "        if lookup_index is not None and lookup_index >= i - count:\n",
    "            count = i - lookup_index\n",
    "        else:\n",
    "            count += 1\n",
    "\n",
    "        lookup[char] = i\n",
    "        if count >= max_length:\n",
    "            max_length = count\n",
    "            \n",
    "    return max_length"
   ]
  },
  {
   "cell_type": "code",
   "execution_count": 2,
   "metadata": {},
   "outputs": [
    {
     "name": "stdout",
     "output_type": "stream",
     "text": [
      "s = abcabcbb, Expected: 3, Actual  : 3\n",
      "s = bbbb, Expected: 1, Actual  : 1\n",
      "s = pwwkew, Expected: 3, Actual  : 3\n",
      "s = , Expected: 0, Actual  : 0\n",
      "s = \"\", Expected: 1, Actual  : 1\n",
      "s =  , Expected: 1, Actual  : 1\n",
      "s = au, Expected: 2, Actual  : 2\n",
      "s = dvdf, Expected: 3, Actual  : 3\n",
      "s = abba, Expected: 2, Actual  : 2\n"
     ]
    }
   ],
   "source": [
    "tests = [\n",
    "    [\"abcabcbb\", 3],\n",
    "    [\"bbbb\", 1],\n",
    "    [\"pwwkew\", 3],\n",
    "    [\"\", 0],\n",
    "    ['\"\"', 1],\n",
    "    [' ', 1],\n",
    "    ['au', 2],\n",
    "    ['dvdf', 3],\n",
    "    ['abba', 2]\n",
    "]\n",
    "\n",
    "for test in tests:\n",
    "    s, expected_output = test[0], test[1]\n",
    "    output = lengthOfLongestSubstring(s)\n",
    "    print(f's = {s}, Expected: {expected_output}, Actual  : {output}')"
   ]
  },
  {
   "cell_type": "markdown",
   "metadata": {},
   "source": [
    "### Solution 2 (Simplified, using sliding window)"
   ]
  },
  {
   "cell_type": "code",
   "execution_count": 3,
   "metadata": {},
   "outputs": [],
   "source": [
    "def lengthOfLongestSubstring(s):\n",
    "    \"\"\"Returs length of longest substring without repeating characters\n",
    "    \n",
    "    Args:\n",
    "        s: Input string\n",
    "    Returns:\n",
    "        Length of longest substring of S without repeating characters\n",
    "    \"\"\"\n",
    "    count, window_start = 0, 0\n",
    "    lookup = {}\n",
    "    \n",
    "    for i, char in enumerate(s):\n",
    "        lookup_index = lookup.get(char, None)\n",
    "        if lookup_index is not None:\n",
    "            window_start = max(lookup_index, window_start)\n",
    "        count = max(count, i - window_start + 1)\n",
    "        lookup[char] = i + 1\n",
    "        \n",
    "    return count"
   ]
  },
  {
   "cell_type": "code",
   "execution_count": 4,
   "metadata": {},
   "outputs": [
    {
     "name": "stdout",
     "output_type": "stream",
     "text": [
      "s = abcabcbb, Expected: 3, Actual  : 3\n",
      "s = bbbb, Expected: 1, Actual  : 1\n",
      "s = pwwkew, Expected: 3, Actual  : 3\n",
      "s = , Expected: 0, Actual  : 0\n",
      "s = \"\", Expected: 1, Actual  : 1\n",
      "s =  , Expected: 1, Actual  : 1\n",
      "s = au, Expected: 2, Actual  : 2\n",
      "s = dvdf, Expected: 3, Actual  : 3\n",
      "s = abba, Expected: 2, Actual  : 2\n"
     ]
    }
   ],
   "source": [
    "tests = [\n",
    "    [\"abcabcbb\", 3],\n",
    "    [\"bbbb\", 1],\n",
    "    [\"pwwkew\", 3],\n",
    "    [\"\", 0],\n",
    "    ['\"\"', 1],\n",
    "    [' ', 1],\n",
    "    ['au', 2],\n",
    "    ['dvdf', 3],\n",
    "    ['abba', 2]\n",
    "]\n",
    "\n",
    "for test in tests:\n",
    "    s, expected_output = test[0], test[1]\n",
    "    output = lengthOfLongestSubstring(s)\n",
    "    print(f's = {s}, Expected: {expected_output}, Actual  : {output}')"
   ]
  }
 ],
 "metadata": {
  "kernelspec": {
   "display_name": "Python 3",
   "language": "python",
   "name": "python3"
  },
  "language_info": {
   "codemirror_mode": {
    "name": "ipython",
    "version": 3
   },
   "file_extension": ".py",
   "mimetype": "text/x-python",
   "name": "python",
   "nbconvert_exporter": "python",
   "pygments_lexer": "ipython3",
   "version": "3.6.6"
  }
 },
 "nbformat": 4,
 "nbformat_minor": 2
}
