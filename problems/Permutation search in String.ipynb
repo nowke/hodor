{
 "cells": [
  {
   "cell_type": "markdown",
   "metadata": {},
   "source": [
    "# Permutation search in String\n",
    "\n",
    "Source: [https://www.amazon.com/Cracking-Coding-Interview-Programming-Questions/dp/0984782850](https://www.amazon.com/Cracking-Coding-Interview-Programming-Questions/dp/0984782850)\n",
    "\n",
    "Given a smaller string `s` and a bigger string `b`, design an algorithm to find all permutations of the shorter string within the longer one. Print the location of each permutation.\n",
    "\n",
    "**Example**\n",
    "\n",
    "```\n",
    "s: abbc\n",
    "b: cbabadcbbabbcbabaabccbabc\n",
    "   ^^^^     ^^^^       ^^^^\n",
    "         ^^^^ ^^^^      ^^^^\n",
    "               ^^^^\n",
    "```"
   ]
  },
  {
   "cell_type": "markdown",
   "metadata": {},
   "source": [
    "## Approach 1: Brute Force"
   ]
  },
  {
   "cell_type": "code",
   "execution_count": 1,
   "metadata": {},
   "outputs": [],
   "source": [
    "from itertools import permutations\n",
    "\n",
    "def search_permutations(s, b):\n",
    "    \"\"\"Search for all permutations of `s` in `b`\n",
    "    \"\"\"\n",
    "    assert len(s) <= len(b)\n",
    "    \n",
    "    s_permutations = [''.join(p) for p in permutations(s)] # -> (1)\n",
    "    \n",
    "    for x in range(len(s), len(b) + 1):\n",
    "        window = b[x - len(s) : x]\n",
    "        if window in s_permutations: # -> (2)\n",
    "            yield x - len(s)"
   ]
  },
  {
   "cell_type": "code",
   "execution_count": 2,
   "metadata": {},
   "outputs": [
    {
     "data": {
      "text/plain": [
       "[0, 6, 9, 11, 12, 20, 21]"
      ]
     },
     "execution_count": 2,
     "metadata": {},
     "output_type": "execute_result"
    }
   ],
   "source": [
    "list(search_permutations(\"abbc\", \"cbabadcbbabbcbabaabccbabc\"))"
   ]
  },
  {
   "cell_type": "markdown",
   "metadata": {},
   "source": [
    "Here, \n",
    "* (1) takes $O(S!)$ time\n",
    "* (2) takes $O(S)$ time \n",
    "* The for loop takes $O(B)$ time\n",
    "\n",
    "Hence,\n",
    "\n",
    "* **Time Complexity**  : $O(S!) + O(B \\cdot S)$\n",
    "* **Space Complexity** : $O(S!)$\n",
    "\n",
    "This is very expensive if `S` is slightly large."
   ]
  },
  {
   "cell_type": "markdown",
   "metadata": {},
   "source": [
    "## Approach 2: Frequency table"
   ]
  },
  {
   "cell_type": "code",
   "execution_count": 3,
   "metadata": {},
   "outputs": [],
   "source": [
    "def search_permutations(s, b):\n",
    "    \"\"\"Search for all permutations of `s` in `b`\n",
    "    \"\"\"\n",
    "    assert len(s) <= len(b)    \n",
    "    \n",
    "    frequency_s = [0] * 256\n",
    "    frequency_window = [0] * 256\n",
    "    \n",
    "    # Generate frequency table for `s` and first window\n",
    "    for i, ch in enumerate(s):\n",
    "        frequency_s[ord(ch)] += 1\n",
    "        frequency_window[ord(b[i])] += 1\n",
    "        \n",
    "    # Compare\n",
    "    for i in range(len(s), len(b)):\n",
    "        if frequency_s == frequency_window:\n",
    "            yield i - len(s)\n",
    "        frequency_window[ord(b[i])]        += 1 # Increase count of next character\n",
    "        frequency_window[ord(b[i-len(s)])] -= 1 # Decrease count of last character\n",
    "        \n",
    "    if frequency_s == frequency_window:\n",
    "        yield len(b) - len(s)"
   ]
  },
  {
   "cell_type": "code",
   "execution_count": 4,
   "metadata": {},
   "outputs": [
    {
     "data": {
      "text/plain": [
       "[0, 6, 9, 11, 12, 20, 21]"
      ]
     },
     "execution_count": 4,
     "metadata": {},
     "output_type": "execute_result"
    }
   ],
   "source": [
    "list(search_permutations(\"abbc\", \"cbabadcbbabbcbabaabccbabc\"))"
   ]
  },
  {
   "cell_type": "markdown",
   "metadata": {},
   "source": [
    "Here,\n",
    "* Generating frequency table takes $O(S)$ time\n",
    "* For loop takes $O(B)$ time\n",
    "* Comparison `frequency_s == frequency_window` takes $O(1)$ time\n",
    "\n",
    "Hence,\n",
    "* **Time Complexity** : $O(B) + O(S) = O(B)$\n",
    "* **Space Complexirt**: $O(1)$"
   ]
  }
 ],
 "metadata": {
  "kernelspec": {
   "display_name": "Python 3",
   "language": "python",
   "name": "python3"
  },
  "language_info": {
   "codemirror_mode": {
    "name": "ipython",
    "version": 3
   },
   "file_extension": ".py",
   "mimetype": "text/x-python",
   "name": "python",
   "nbconvert_exporter": "python",
   "pygments_lexer": "ipython3",
   "version": "3.6.6"
  }
 },
 "nbformat": 4,
 "nbformat_minor": 2
}
