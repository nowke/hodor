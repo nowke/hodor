{
 "cells": [
  {
   "cell_type": "markdown",
   "metadata": {},
   "source": [
    "# Remove Element\n",
    "\n",
    "Source: [https://leetcode.com/problems/remove-element/](https://leetcode.com/problems/remove-element/)\n",
    "\n",
    "Given an array *nums* and a value *val*, remove all instances of that value **[in-place](https://en.wikipedia.org/wiki/In-place_algorithm)** and return the new length.\n",
    "\n",
    "Do not allocate extra space for another array, you must do this by **modifying the input array [in-place](https://en.wikipedia.org/wiki/In-place_algorithm)** with O(1) extra memory.\n",
    "\n",
    "The order of elements can be changed. It doesn't matter what you leave beyond the new length.\n",
    "\n",
    "**Example 1:**\n",
    "\n",
    "```\n",
    "Given nums = [3,2,2,3], val = 3,\n",
    "\n",
    "Your function should return length = 2, with the first two elements of nums being 2.\n",
    "\n",
    "It doesn't matter what you leave beyond the returned length.\n",
    "```\n",
    "\n",
    "**Example 2:**\n",
    "\n",
    "```\n",
    "Given nums = [0,1,2,2,3,0,4,2], val = 2,\n",
    "\n",
    "Your function should return length = 5, with the first five elements of nums containing 0, 1, 3, 0, and 4.\n",
    "\n",
    "Note that the order of those five elements can be arbitrary.\n",
    "\n",
    "It doesn't matter what values are set beyond the returned length.\n",
    "```\n",
    "\n",
    "**Clarification:**\n",
    "\n",
    "Confused why the returned value is an integer but your answer is an array?\n",
    "\n",
    "Note that the input array is passed in by **reference**, which means modification to the input array will be known to the caller as well.\n",
    "\n",
    "Internally you can think of this:\n",
    "\n",
    "```\n",
    "// nums is passed in by reference. (i.e., without making a copy)\n",
    "int len = removeElement(nums, val);\n",
    "\n",
    "// any modification to nums in your function would be known by the caller.\n",
    "// using the length returned by your function, it prints the first len elements.\n",
    "for (int i = 0; i < len; i++) {\n",
    "    print(nums[i]);\n",
    "}\n",
    "```"
   ]
  },
  {
   "cell_type": "code",
   "execution_count": 1,
   "metadata": {
    "collapsed": true
   },
   "outputs": [],
   "source": [
    "def removeElement(nums, val):\n",
    "    \"\"\"\n",
    "    :type nums: List[int]\n",
    "    :type val: int\n",
    "    :rtype: int\n",
    "    \"\"\"\n",
    "    n = 0         # Number of matches\n",
    "    N = len(nums) # Original length\n",
    "    for i in range(N):\n",
    "        if nums[i] == val:\n",
    "            n += 1\n",
    "        else:\n",
    "            nums[i-n] = nums[i]\n",
    "    return N - n"
   ]
  },
  {
   "cell_type": "code",
   "execution_count": 2,
   "metadata": {},
   "outputs": [
    {
     "name": "stdout",
     "output_type": "stream",
     "text": [
      "nums = [0, 1, 2, 2, 3, 0, 4, 2], val = 2\n",
      "Expetced Length = 5\n",
      "Actual length = 5\n",
      "Modified array [0, 1, 3, 0, 4]\n",
      "\n",
      "nums = [3, 2, 2, 3], val = 3\n",
      "Expetced Length = 2\n",
      "Actual length = 2\n",
      "Modified array [2, 2]\n",
      "\n"
     ]
    }
   ],
   "source": [
    "tests = [\n",
    "    { \"nums\": [0,1,2,2,3,0,4,2], \"val\": 2, \"expected_length\" : 5},\n",
    "    { \"nums\": [3,2,2,3], \"val\": 3, \"expected_length\" : 2},\n",
    "]\n",
    "\n",
    "for test in tests:\n",
    "    nums, val, expected_length = test[\"nums\"], test[\"val\"], test[\"expected_length\"]\n",
    "    print(f'nums = {nums}, val = {val}')\n",
    "    print(f'Expetced Length = {expected_length}')\n",
    "    length = removeElement(nums, val)\n",
    "    print(f'Actual length = {length}')\n",
    "    print(f'Modified array {nums[:length]}\\n')"
   ]
  },
  {
   "cell_type": "markdown",
   "metadata": {},
   "source": [
    "### Complexity\n",
    "\n",
    "* **Time complexity**: $O(n)$ - traversing the array only once\n",
    "* **Space complexity**: $O(1)$ - no extra array is created"
   ]
  }
 ],
 "metadata": {
  "kernelspec": {
   "display_name": "Python 3",
   "language": "python",
   "name": "python3"
  },
  "language_info": {
   "codemirror_mode": {
    "name": "ipython",
    "version": 3
   },
   "file_extension": ".py",
   "mimetype": "text/x-python",
   "name": "python",
   "nbconvert_exporter": "python",
   "pygments_lexer": "ipython3",
   "version": "3.6.1"
  }
 },
 "nbformat": 4,
 "nbformat_minor": 2
}
